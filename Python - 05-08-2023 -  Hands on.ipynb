{
 "cells": [
  {
   "cell_type": "code",
   "execution_count": 3,
   "id": "0255d081",
   "metadata": {},
   "outputs": [],
   "source": [
    "def multiply(a,b):\n",
    "    print(a*b)"
   ]
  },
  {
   "cell_type": "code",
   "execution_count": 4,
   "id": "6aa19519",
   "metadata": {},
   "outputs": [
    {
     "name": "stdout",
     "output_type": "stream",
     "text": [
      "199402281633939\n"
     ]
    }
   ],
   "source": [
    "multiply(233223,854985493)"
   ]
  },
  {
   "cell_type": "code",
   "execution_count": 9,
   "id": "e6727edd",
   "metadata": {},
   "outputs": [
    {
     "name": "stdout",
     "output_type": "stream",
     "text": [
      "199402281633939\n"
     ]
    }
   ],
   "source": [
    "# if we use print function, we cant declare the output in a new variable. for that we need to use \"return\"\n",
    "b =multiply(233223,854985493)\n",
    "print(b)"
   ]
  },
  {
   "cell_type": "code",
   "execution_count": 6,
   "id": "61414072",
   "metadata": {},
   "outputs": [],
   "source": [
    "# using return function\n",
    "def multiply(a,b):\n",
    "    return(a*b)"
   ]
  },
  {
   "cell_type": "code",
   "execution_count": 8,
   "id": "09137bba",
   "metadata": {},
   "outputs": [
    {
     "name": "stdout",
     "output_type": "stream",
     "text": [
      "20\n"
     ]
    }
   ],
   "source": [
    "# using return function, we can declare a output in a  varible \n",
    "d = multiply(5,4)\n",
    "print(d)"
   ]
  },
  {
   "cell_type": "code",
   "execution_count": 11,
   "id": "fd794778",
   "metadata": {},
   "outputs": [
    {
     "name": "stdout",
     "output_type": "stream",
     "text": [
      "20\n"
     ]
    }
   ],
   "source": [
    "# another example\n",
    "d = multiply(5,2)\n",
    "e = multiply(d,2)\n",
    "print(e)"
   ]
  },
  {
   "cell_type": "code",
   "execution_count": 14,
   "id": "1dacf12c",
   "metadata": {},
   "outputs": [
    {
     "name": "stdout",
     "output_type": "stream",
     "text": [
      "[0, 2, 4, 6, 8]\n"
     ]
    }
   ],
   "source": [
    "# using for, if loop to find even numbers in a particular range\n",
    "l = []\n",
    "for i in range(10):\n",
    "    if i%2==0:\n",
    "        l.append(i)\n",
    "print(l)\n",
    "    "
   ]
  },
  {
   "cell_type": "code",
   "execution_count": 21,
   "id": "572f12f2",
   "metadata": {},
   "outputs": [],
   "source": [
    "# using def method to find the even numbers in a given range\n",
    "\n",
    "def get_num_range(start,end,mode):\n",
    "    if mode == \"even\":\n",
    "        remainder = 0\n",
    "        \n",
    "    elif mode == \"odd\":\n",
    "        remainder = 1\n",
    "    \n",
    "    l = []\n",
    "    for i in range (start,end):\n",
    "        if i%2==remainder:\n",
    "            l.append(i)\n",
    "    return(l)\n",
    "    "
   ]
  },
  {
   "cell_type": "code",
   "execution_count": 22,
   "id": "6683ca8e",
   "metadata": {},
   "outputs": [
    {
     "name": "stdout",
     "output_type": "stream",
     "text": [
      "[10, 12, 14, 16, 18, 20, 22, 24, 26, 28, 30, 32, 34, 36, 38, 40, 42, 44, 46, 48, 50, 52, 54, 56, 58, 60, 62, 64, 66, 68, 70, 72, 74, 76, 78, 80, 82, 84, 86, 88, 90, 92, 94, 96, 98, 100, 102, 104, 106, 108, 110, 112, 114, 116, 118, 120, 122, 124, 126, 128, 130, 132, 134, 136, 138, 140, 142, 144, 146, 148, 150, 152, 154, 156, 158, 160, 162, 164, 166, 168, 170, 172, 174, 176, 178, 180, 182, 184, 186, 188, 190, 192, 194, 196, 198, 200, 202, 204, 206, 208, 210, 212, 214, 216, 218, 220, 222, 224, 226, 228, 230, 232, 234, 236, 238, 240, 242, 244, 246, 248, 250, 252, 254, 256, 258, 260, 262, 264, 266, 268, 270, 272, 274, 276, 278, 280, 282, 284, 286, 288, 290, 292, 294, 296, 298, 300, 302, 304, 306, 308, 310, 312, 314, 316, 318, 320, 322, 324, 326, 328, 330, 332, 334, 336, 338, 340, 342, 344, 346, 348, 350, 352, 354, 356, 358, 360, 362, 364, 366, 368, 370, 372, 374, 376, 378, 380, 382, 384, 386, 388, 390, 392, 394, 396, 398, 400, 402, 404, 406, 408, 410, 412, 414, 416, 418, 420, 422, 424, 426, 428, 430, 432, 434, 436, 438, 440, 442, 444, 446, 448, 450, 452, 454, 456, 458, 460, 462, 464, 466, 468, 470, 472, 474, 476, 478, 480, 482, 484, 486, 488, 490, 492, 494, 496, 498]\n"
     ]
    }
   ],
   "source": [
    "output = get_num_range(10,500,\"even\")\n",
    "print(output)"
   ]
  },
  {
   "cell_type": "code",
   "execution_count": 7,
   "id": "f6dcdd1c",
   "metadata": {},
   "outputs": [],
   "source": [
    "def names(first_name,middle_name,last_name):\n",
    "    print(\"first name is\", first_name)\n",
    "    print(\"second name is\", middle_name)\n",
    "    print(\"thrid name is\", last_name)"
   ]
  },
  {
   "cell_type": "code",
   "execution_count": 8,
   "id": "1dea03ad",
   "metadata": {},
   "outputs": [
    {
     "name": "stdout",
     "output_type": "stream",
     "text": [
      "first name is Sabarish\n",
      "second name is Vishwa\n",
      "thrid name is Venkatesan\n"
     ]
    }
   ],
   "source": [
    "# positional argument based on the position 1,2,3,4....\n",
    "names(\"Sabarish\",\"Vishwa\",\"Venkatesan\")"
   ]
  },
  {
   "cell_type": "code",
   "execution_count": 13,
   "id": "3085deb3",
   "metadata": {},
   "outputs": [
    {
     "name": "stdout",
     "output_type": "stream",
     "text": [
      "first name is Venkatesan\n",
      "second name is Sabarish\n",
      "thrid name is Vishwa\n"
     ]
    }
   ],
   "source": [
    "# keyword argument is depends on our input\n",
    "\n",
    "names(first_name = \"Venkatesan\", middle_name = \"Sabarish\", last_name= \"Vishwa\")"
   ]
  },
  {
   "cell_type": "code",
   "execution_count": 18,
   "id": "9d3705aa",
   "metadata": {},
   "outputs": [
    {
     "name": "stdout",
     "output_type": "stream",
     "text": [
      "first name is Vsan\n",
      "second name is Sabh\n",
      "thrid name is Viwa\n"
     ]
    }
   ],
   "source": [
    "names(\"Vsan\", middle_name =\"Sabh\", last_name=\"Viwa\")"
   ]
  },
  {
   "cell_type": "code",
   "execution_count": 19,
   "id": "0315378d",
   "metadata": {},
   "outputs": [
    {
     "ename": "SyntaxError",
     "evalue": "positional argument follows keyword argument (3724723632.py, line 1)",
     "output_type": "error",
     "traceback": [
      "\u001b[1;36m  File \u001b[1;32m\"C:\\Users\\sabar\\AppData\\Local\\Temp\\ipykernel_2416\\3724723632.py\"\u001b[1;36m, line \u001b[1;32m1\u001b[0m\n\u001b[1;33m    names(first_name = \"Vsan\", \"Sabh\", last_name=\"Viwa\")\u001b[0m\n\u001b[1;37m                                                       ^\u001b[0m\n\u001b[1;31mSyntaxError\u001b[0m\u001b[1;31m:\u001b[0m positional argument follows keyword argument\n"
     ]
    }
   ],
   "source": [
    "names(first_name = \"Vsan\", \"Sabh\", last_name=\"Viwa\")\n",
    "# SyntaxError: positional argument follows keyword argument"
   ]
  },
  {
   "cell_type": "code",
   "execution_count": 21,
   "id": "a1bfbea6",
   "metadata": {},
   "outputs": [
    {
     "ename": "TypeError",
     "evalue": "names() got multiple values for argument 'first_name'",
     "output_type": "error",
     "traceback": [
      "\u001b[1;31m---------------------------------------------------------------------------\u001b[0m",
      "\u001b[1;31mTypeError\u001b[0m                                 Traceback (most recent call last)",
      "\u001b[1;32m~\\AppData\\Local\\Temp\\ipykernel_2416\\2128906275.py\u001b[0m in \u001b[0;36m<module>\u001b[1;34m\u001b[0m\n\u001b[1;32m----> 1\u001b[1;33m \u001b[0mnames\u001b[0m\u001b[1;33m(\u001b[0m\u001b[1;34m\"Vsan\"\u001b[0m\u001b[1;33m,\u001b[0m \u001b[0mfirst_name\u001b[0m\u001b[1;33m=\u001b[0m\u001b[1;34m\"Sabh\"\u001b[0m\u001b[1;33m,\u001b[0m \u001b[0mlast_name\u001b[0m\u001b[1;33m=\u001b[0m\u001b[1;34m\"Viwa\"\u001b[0m\u001b[1;33m)\u001b[0m\u001b[1;33m\u001b[0m\u001b[1;33m\u001b[0m\u001b[0m\n\u001b[0m",
      "\u001b[1;31mTypeError\u001b[0m: names() got multiple values for argument 'first_name'"
     ]
    }
   ],
   "source": [
    "names(\"Vsan\", first_name=\"Sabh\", last_name=\"Viwa\")\n",
    "\n",
    "# TypeError: names() got multiple values for argument 'first_name"
   ]
  },
  {
   "cell_type": "code",
   "execution_count": 56,
   "id": "557daae8",
   "metadata": {},
   "outputs": [],
   "source": [
    "def games(first_game = None, second_game = None, thrid_game = None):\n",
    "    print(\"first game is\", first_game)\n",
    "    print(\"second game is\", second_game)\n",
    "    print(\"thrid game is\", thrid_game)"
   ]
  },
  {
   "cell_type": "code",
   "execution_count": 58,
   "id": "356a5492",
   "metadata": {},
   "outputs": [
    {
     "name": "stdout",
     "output_type": "stream",
     "text": [
      "first game is cricket\n",
      "second game is None\n",
      "thrid game is None\n"
     ]
    }
   ],
   "source": [
    "games(\"cricket\")"
   ]
  },
  {
   "cell_type": "code",
   "execution_count": 2,
   "id": "134feb1e",
   "metadata": {},
   "outputs": [],
   "source": [
    "def addd (a,b):\n",
    "    if a + b == 3:\n",
    "        print(\"yes\")\n",
    "    else:\n",
    "        print(\"no\")"
   ]
  },
  {
   "cell_type": "code",
   "execution_count": 3,
   "id": "bd6beed8",
   "metadata": {},
   "outputs": [
    {
     "name": "stdout",
     "output_type": "stream",
     "text": [
      "yes\n"
     ]
    }
   ],
   "source": [
    "addd(2,1)"
   ]
  },
  {
   "cell_type": "code",
   "execution_count": 4,
   "id": "419beea9",
   "metadata": {},
   "outputs": [
    {
     "name": "stdout",
     "output_type": "stream",
     "text": [
      "no\n"
     ]
    }
   ],
   "source": [
    "addd(3,3)"
   ]
  },
  {
   "cell_type": "code",
   "execution_count": 12,
   "id": "956894c1",
   "metadata": {},
   "outputs": [],
   "source": [
    "def get_number (start, end, mode):\n",
    "    if mode == \"even\":\n",
    "        remainder = 0\n",
    "    elif mode == \"odd\":\n",
    "        remainder = 1\n",
    "        \n",
    "    l = []\n",
    "    for i in range (start, end):\n",
    "        if i%2==remainder:\n",
    "            l.append(i)\n",
    "    return l\n",
    "        "
   ]
  },
  {
   "cell_type": "code",
   "execution_count": 13,
   "id": "64ce9ec0",
   "metadata": {},
   "outputs": [
    {
     "name": "stdout",
     "output_type": "stream",
     "text": [
      "[50, 52, 54, 56, 58, 60, 62, 64, 66, 68, 70, 72, 74, 76, 78, 80, 82, 84, 86, 88, 90, 92, 94, 96, 98]\n"
     ]
    }
   ],
   "source": [
    "output = get_number(50,100,\"even\")\n",
    "print(output)"
   ]
  },
  {
   "cell_type": "code",
   "execution_count": 16,
   "id": "b3a49686",
   "metadata": {},
   "outputs": [],
   "source": [
    "def names (first_name,middle_name,last_name):\n",
    "    print(\"First Name is :\", first_name)\n",
    "    print(\"Middle Name is :\", middle_name)\n",
    "    print(\"Last Name is :\", last_name)"
   ]
  },
  {
   "cell_type": "code",
   "execution_count": 18,
   "id": "1b6d218a",
   "metadata": {},
   "outputs": [
    {
     "name": "stdout",
     "output_type": "stream",
     "text": [
      "First Name is : Sabarish\n",
      "Middle Name is : chennai\n",
      "Last Name is : Venkatesan\n"
     ]
    }
   ],
   "source": [
    "names(\"Sabarish\", \"chennai\", \"Venkatesan\")"
   ]
  },
  {
   "cell_type": "code",
   "execution_count": 25,
   "id": "c8822559",
   "metadata": {},
   "outputs": [
    {
     "name": "stdout",
     "output_type": "stream",
     "text": [
      "First Name is : cheenn\n",
      "Middle Name is : Chennai\n",
      "Last Name is : Venkatesan\n"
     ]
    }
   ],
   "source": [
    "names (first_name = \"cheenn\",middle_name = \"Chennai\",last_name = \"Venkatesan\")"
   ]
  },
  {
   "cell_type": "code",
   "execution_count": 26,
   "id": "5245c367",
   "metadata": {},
   "outputs": [
    {
     "name": "stdout",
     "output_type": "stream",
     "text": [
      "First Name is : cheenn\n",
      "Middle Name is : Chennai\n",
      "Last Name is : Venkatesan\n"
     ]
    }
   ],
   "source": [
    "names(\"cheenn\",middle_name = \"Chennai\",last_name = \"Venkatesan\" )"
   ]
  },
  {
   "cell_type": "code",
   "execution_count": 27,
   "id": "60bf5c81",
   "metadata": {},
   "outputs": [
    {
     "ename": "SyntaxError",
     "evalue": "positional argument follows keyword argument (3640146895.py, line 1)",
     "output_type": "error",
     "traceback": [
      "\u001b[1;36m  File \u001b[1;32m\"C:\\Users\\sabar\\AppData\\Local\\Temp\\ipykernel_7256\\3640146895.py\"\u001b[1;36m, line \u001b[1;32m1\u001b[0m\n\u001b[1;33m    names (first_name = \"cheenn\", \"Chennai\",last_name = \"Venkatesan\")\u001b[0m\n\u001b[1;37m                                                                    ^\u001b[0m\n\u001b[1;31mSyntaxError\u001b[0m\u001b[1;31m:\u001b[0m positional argument follows keyword argument\n"
     ]
    }
   ],
   "source": [
    "names (first_name = \"cheenn\", \"Chennai\",last_name = \"Venkatesan\")"
   ]
  },
  {
   "cell_type": "code",
   "execution_count": 30,
   "id": "dfa0a755",
   "metadata": {},
   "outputs": [
    {
     "name": "stdout",
     "output_type": "stream",
     "text": [
      "First Name is : None\n",
      "Middle Name is : None\n",
      "Last Name is : Venkatesan\n"
     ]
    }
   ],
   "source": [
    "names(None,middle_name = None,last_name = \"Venkatesan\" )"
   ]
  },
  {
   "cell_type": "code",
   "execution_count": 31,
   "id": "f3d46c3d",
   "metadata": {},
   "outputs": [
    {
     "name": "stdout",
     "output_type": "stream",
     "text": [
      "First Name is : None\n",
      "Middle Name is : None\n",
      "Last Name is : None\n"
     ]
    }
   ],
   "source": [
    "names(None, None, None)"
   ]
  },
  {
   "cell_type": "code",
   "execution_count": null,
   "id": "6f0e1fde",
   "metadata": {},
   "outputs": [],
   "source": [
    " "
   ]
  }
 ],
 "metadata": {
  "kernelspec": {
   "display_name": "Python 3 (ipykernel)",
   "language": "python",
   "name": "python3"
  },
  "language_info": {
   "codemirror_mode": {
    "name": "ipython",
    "version": 3
   },
   "file_extension": ".py",
   "mimetype": "text/x-python",
   "name": "python",
   "nbconvert_exporter": "python",
   "pygments_lexer": "ipython3",
   "version": "3.9.13"
  }
 },
 "nbformat": 4,
 "nbformat_minor": 5
}
