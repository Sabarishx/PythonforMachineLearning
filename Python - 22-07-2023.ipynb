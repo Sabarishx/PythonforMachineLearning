{
 "cells": [
  {
   "cell_type": "code",
   "execution_count": 1,
   "id": "40ec9f8f",
   "metadata": {},
   "outputs": [
    {
     "name": "stdout",
     "output_type": "stream",
     "text": [
      "Hello World\n"
     ]
    }
   ],
   "source": [
    "print (\"Hello World\")"
   ]
  },
  {
   "cell_type": "code",
   "execution_count": 2,
   "id": "093bfbec",
   "metadata": {},
   "outputs": [
    {
     "name": "stdout",
     "output_type": "stream",
     "text": [
      "hi\n",
      "iam good\n",
      "welcome\n"
     ]
    }
   ],
   "source": [
    "# n command used to print values line by line\n",
    "\n",
    "print (\"hi\\niam good\\nwelcome\")"
   ]
  },
  {
   "cell_type": "code",
   "execution_count": 4,
   "id": "fb1b2fac",
   "metadata": {},
   "outputs": [
    {
     "name": "stdout",
     "output_type": "stream",
     "text": [
      "Vanakkam\tChennai\t600001\n"
     ]
    }
   ],
   "source": [
    "# t command used to print values tab by tab\n",
    "\n",
    "print(\"Vanakkam\\tChennai\\t600001\")"
   ]
  },
  {
   "cell_type": "code",
   "execution_count": 8,
   "id": "a24132e1",
   "metadata": {},
   "outputs": [
    {
     "name": "stdout",
     "output_type": "stream",
     "text": [
      "hi123Welcome\n"
     ]
    }
   ],
   "source": [
    "print(\"hi\", end=\"123\")\n",
    "print(\"Welcome\")"
   ]
  },
  {
   "cell_type": "code",
   "execution_count": 9,
   "id": "eda4876e",
   "metadata": {},
   "outputs": [],
   "source": [
    "# There are two types of comment\n",
    "## single line comment --> starts with #\n",
    "# if you want to perform single line autocomment - ctrl+l"
   ]
  },
  {
   "cell_type": "code",
   "execution_count": 10,
   "id": "45a04758",
   "metadata": {},
   "outputs": [
    {
     "name": "stdout",
     "output_type": "stream",
     "text": [
      "I am Sabarish Venkatesan\n"
     ]
    }
   ],
   "source": [
    " # Variable should not start with Numbers and should not contains special characters except underscore (_)\n",
    "    \n",
    "a = \"I am Sabarish Venkatesan\"\n",
    "print (a)"
   ]
  },
  {
   "cell_type": "code",
   "execution_count": 11,
   "id": "3d601e22",
   "metadata": {},
   "outputs": [
    {
     "ename": "SyntaxError",
     "evalue": "invalid syntax (3206818298.py, line 1)",
     "output_type": "error",
     "traceback": [
      "\u001b[1;36m  File \u001b[1;32m\"C:\\Users\\sabar\\AppData\\Local\\Temp\\ipykernel_18856\\3206818298.py\"\u001b[1;36m, line \u001b[1;32m1\u001b[0m\n\u001b[1;33m    1a = \"Infosys\"\u001b[0m\n\u001b[1;37m     ^\u001b[0m\n\u001b[1;31mSyntaxError\u001b[0m\u001b[1;31m:\u001b[0m invalid syntax\n"
     ]
    }
   ],
   "source": [
    "1a = \"Infosys\""
   ]
  },
  {
   "cell_type": "code",
   "execution_count": 14,
   "id": "e78fa8f8",
   "metadata": {},
   "outputs": [
    {
     "name": "stdout",
     "output_type": "stream",
     "text": [
      "Infosys\n"
     ]
    }
   ],
   "source": [
    "a_1 = \"Infosys\"\n",
    "print(a_1)"
   ]
  },
  {
   "cell_type": "code",
   "execution_count": 15,
   "id": "710e3052",
   "metadata": {},
   "outputs": [
    {
     "name": "stdout",
     "output_type": "stream",
     "text": [
      "Infosys\n"
     ]
    }
   ],
   "source": [
    "_a = \"Infosys\"\n",
    "print(_a)"
   ]
  },
  {
   "cell_type": "code",
   "execution_count": 16,
   "id": "733198a9",
   "metadata": {},
   "outputs": [],
   "source": [
    "# data types\n",
    "\n",
    "#String = Anything that comes in double quotes"
   ]
  },
  {
   "cell_type": "code",
   "execution_count": 18,
   "id": "28cdeb36",
   "metadata": {},
   "outputs": [
    {
     "name": "stdout",
     "output_type": "stream",
     "text": [
      "Sabarish Venkatesan\n"
     ]
    }
   ],
   "source": [
    "a = \"Sabarish Venkatesan\"\n",
    "\n",
    "print(a)"
   ]
  },
  {
   "cell_type": "code",
   "execution_count": 19,
   "id": "051a93b0",
   "metadata": {},
   "outputs": [
    {
     "name": "stdout",
     "output_type": "stream",
     "text": [
      "<class 'str'>\n"
     ]
    }
   ],
   "source": [
    "print(type(a))"
   ]
  },
  {
   "cell_type": "code",
   "execution_count": 49,
   "id": "2ce22791",
   "metadata": {},
   "outputs": [
    {
     "name": "stdout",
     "output_type": "stream",
     "text": [
      "24\n",
      "v\n",
      ".\n",
      "['.', '.', '0', '0', '0', '2', '@', 'a', 'a', 'a', 'b', 'c', 'g', 'h', 'i', 'i', 'l', 'm', 'm', 'o', 'r', 's', 's', 'v']\n"
     ]
    }
   ],
   "source": [
    "print(len(a))\n",
    "print(max(a))\n",
    "print(min(a))\n",
    "print(sorted(a))"
   ]
  },
  {
   "cell_type": "code",
   "execution_count": 23,
   "id": "ce4fc4a8",
   "metadata": {},
   "outputs": [
    {
     "name": "stdout",
     "output_type": "stream",
     "text": [
      "True\n"
     ]
    }
   ],
   "source": [
    "# isinstance helps us to verify the given datatype is true or not\n",
    "print(isinstance(a,str))"
   ]
  },
  {
   "cell_type": "code",
   "execution_count": 24,
   "id": "eaafc2ab",
   "metadata": {},
   "outputs": [
    {
     "name": "stdout",
     "output_type": "stream",
     "text": [
      "False\n",
      "False\n",
      "False\n",
      "False\n",
      "False\n"
     ]
    }
   ],
   "source": [
    "print(a.isupper()) # to check whether the given string is in uppercase or not\n",
    "print(a.islower()) # to check whether the given string is in lowercase or not\n",
    "print(a.isalpha()) # to check whether the given string has alphabets or not\n",
    "print(a.isalnum()) # to check whether the given string has both alphabets and number or not\n",
    "print(a.isdigit()) # to check whether the given string has digits or not (Integers)"
   ]
  },
  {
   "cell_type": "code",
   "execution_count": 27,
   "id": "c6786ff0",
   "metadata": {},
   "outputs": [
    {
     "name": "stdout",
     "output_type": "stream",
     "text": [
      "SABARISH VENKATESAN\n",
      "sabarish venkatesan\n",
      "sABARISH vENKATESAN\n",
      "False\n",
      "True\n"
     ]
    }
   ],
   "source": [
    "print(a.upper()) # This function helps us to change the given string into uppercase\n",
    "print(a.lower()) # This function helps us to change the given string into lowercase\n",
    "print(a.swapcase()) # This function helps us to change the given string into viceversa (If it is in lower means it schanges into upper)\n",
    "print(a.startswith(\"s\")) # this function helps us to crosscheck whether the given string starts with given input\n",
    "print(a.endswith(\"n\")) # this function helps us to crosscheck whether the given string ends with given input"
   ]
  },
  {
   "cell_type": "code",
   "execution_count": 28,
   "id": "e1ff3a20",
   "metadata": {},
   "outputs": [
    {
     "ename": "NameError",
     "evalue": "name 'Machinelearingbysabarish' is not defined",
     "output_type": "error",
     "traceback": [
      "\u001b[1;31m---------------------------------------------------------------------------\u001b[0m",
      "\u001b[1;31mNameError\u001b[0m                                 Traceback (most recent call last)",
      "\u001b[1;32m~\\AppData\\Local\\Temp\\ipykernel_18856\\156768144.py\u001b[0m in \u001b[0;36m<module>\u001b[1;34m\u001b[0m\n\u001b[1;32m----> 1\u001b[1;33m \u001b[0ma\u001b[0m \u001b[1;33m=\u001b[0m \u001b[0mMachinelearingbysabarish\u001b[0m\u001b[1;33m\u001b[0m\u001b[1;33m\u001b[0m\u001b[0m\n\u001b[0m\u001b[0;32m      2\u001b[0m \u001b[0mprint\u001b[0m\u001b[1;33m(\u001b[0m\u001b[0ma\u001b[0m\u001b[1;33m[\u001b[0m\u001b[1;33m:\u001b[0m\u001b[1;33m:\u001b[0m\u001b[1;33m-\u001b[0m\u001b[1;36m1\u001b[0m\u001b[1;33m]\u001b[0m\u001b[1;33m)\u001b[0m\u001b[1;33m\u001b[0m\u001b[1;33m\u001b[0m\u001b[0m\n",
      "\u001b[1;31mNameError\u001b[0m: name 'Machinelearingbysabarish' is not defined"
     ]
    }
   ],
   "source": [
    "a = Machinelearingbysabarish\n",
    "print(a[::-1])"
   ]
  },
  {
   "cell_type": "code",
   "execution_count": 29,
   "id": "100847f2",
   "metadata": {},
   "outputs": [
    {
     "name": "stdout",
     "output_type": "stream",
     "text": [
      "hsirabasybgniraelenihcaM\n"
     ]
    }
   ],
   "source": [
    "a = \"Machinelearingbysabarish\"\n",
    "print(a[::-1])"
   ]
  },
  {
   "cell_type": "code",
   "execution_count": 30,
   "id": "998f6270",
   "metadata": {},
   "outputs": [
    {
     "name": "stdout",
     "output_type": "stream",
     "text": [
      "h\n"
     ]
    }
   ],
   "source": [
    "print(a[3])"
   ]
  },
  {
   "cell_type": "code",
   "execution_count": 32,
   "id": "007cbdc5",
   "metadata": {},
   "outputs": [
    {
     "name": "stdout",
     "output_type": "stream",
     "text": [
      "ahnlaig\n"
     ]
    }
   ],
   "source": [
    "# Start:End:Interval\n",
    "print(a[1:15:2]) "
   ]
  },
  {
   "cell_type": "code",
   "execution_count": 33,
   "id": "8cf77287",
   "metadata": {},
   "outputs": [
    {
     "name": "stdout",
     "output_type": "stream",
     "text": [
      "Machinelearingb\n"
     ]
    }
   ],
   "source": [
    "print(a[:15:])"
   ]
  },
  {
   "cell_type": "code",
   "execution_count": 35,
   "id": "cfcaf416",
   "metadata": {
    "scrolled": true
   },
   "outputs": [
    {
     "name": "stdout",
     "output_type": "stream",
     "text": [
      "1\n"
     ]
    }
   ],
   "source": [
    "print(a.index(\"a\"))"
   ]
  },
  {
   "cell_type": "code",
   "execution_count": 36,
   "id": "e2ee3724",
   "metadata": {},
   "outputs": [
    {
     "name": "stdout",
     "output_type": "stream",
     "text": [
      "7\n"
     ]
    }
   ],
   "source": [
    "print(a.index(\"l\",2,15)) #Start and End"
   ]
  },
  {
   "cell_type": "code",
   "execution_count": 37,
   "id": "0dbaf809",
   "metadata": {},
   "outputs": [
    {
     "name": "stdout",
     "output_type": "stream",
     "text": [
      "22\n",
      "14\n"
     ]
    }
   ],
   "source": [
    "print(a.rindex(\"s\"))  # Starts from end as it is mentioned as reverse but provides output in forward indexing value\n",
    "print(a.rindex(\"b\",2,15)) # It can also has intervals as well (Start, end)"
   ]
  },
  {
   "cell_type": "code",
   "execution_count": 38,
   "id": "fbf13f92",
   "metadata": {},
   "outputs": [
    {
     "name": "stdout",
     "output_type": "stream",
     "text": [
      "19\n",
      "19\n",
      "-1\n"
     ]
    }
   ],
   "source": [
    "#rfind and rindex\n",
    "# if\n",
    "print(a.rindex(\"a\"))\n",
    "print(a.rfind(\"a\"))\n",
    "print(a.rfind(\"z\"))"
   ]
  },
  {
   "cell_type": "code",
   "execution_count": 41,
   "id": "d9fe6a63",
   "metadata": {},
   "outputs": [
    {
     "name": "stdout",
     "output_type": "stream",
     "text": [
      "M$chinele$ringbys$b$rish\n",
      "M$chinelearingbysabarish\n",
      "['M', 'chinele', 'ringbys', 'b', 'rish']\n",
      "['M', 'chinelearingbysabarish']\n",
      "2\n",
      "2\n"
     ]
    }
   ],
   "source": [
    "print(a.replace(\"a\", \"$\"))\n",
    "print(a.replace(\"a\", \"$\",1))\n",
    "print(a.split(\"a\"))\n",
    "print(a.split(\"a\",1))\n",
    "print(a.count(\"r\"))\n",
    "print(a.count(\"r\",5))"
   ]
  },
  {
   "cell_type": "code",
   "execution_count": 1,
   "id": "781bb6a6",
   "metadata": {},
   "outputs": [
    {
     "name": "stdout",
     "output_type": "stream",
     "text": [
      "Welcome To Great Kirigalan Magic Show\n",
      "Welcome to great kirigalan magic show\n"
     ]
    }
   ],
   "source": [
    "a = \"welcome to great kirigalan magic show\"\n",
    "\n",
    "print(a.title())\n",
    "print(a.capitalize())"
   ]
  },
  {
   "cell_type": "code",
   "execution_count": 50,
   "id": "c7f2ffdc",
   "metadata": {},
   "outputs": [
    {
     "name": "stdout",
     "output_type": "stream",
     "text": [
      "My name is Sabarish and I am currently working at Infosys\n",
      "My name is Sabarish and I am currently working at Infosys\n"
     ]
    }
   ],
   "source": [
    "name = \"Sabarish\"\n",
    "company = \"Infosys\"\n",
    "\n",
    "# Latest Method\n",
    "a = f\"My name is {name} and I am currently working at {company}\"\n",
    "print(a)\n",
    "\n",
    "#Traditional Methods\n",
    "\n",
    "b = \"My name is {} and I am currently working at {}\".format(name,company)\n",
    "print(b)"
   ]
  },
  {
   "cell_type": "code",
   "execution_count": 48,
   "id": "285a32f0",
   "metadata": {},
   "outputs": [
    {
     "name": "stdout",
     "output_type": "stream",
     "text": [
      "1234567\n",
      "1234567 \n",
      "        1234567\n"
     ]
    }
   ],
   "source": [
    "a = \"        1234567 \"\n",
    "\n",
    "print(a.strip())\n",
    "print(a.lstrip())\n",
    "print(a.rstrip())"
   ]
  },
  {
   "cell_type": "code",
   "execution_count": 51,
   "id": "e5b26956",
   "metadata": {},
   "outputs": [
    {
     "name": "stdout",
     "output_type": "stream",
     "text": [
      "Sabarish\n"
     ]
    }
   ],
   "source": [
    "a = input()"
   ]
  },
  {
   "cell_type": "code",
   "execution_count": 52,
   "id": "e59c732e",
   "metadata": {},
   "outputs": [
    {
     "name": "stdout",
     "output_type": "stream",
     "text": [
      "Where are working right nowsabarish\n"
     ]
    }
   ],
   "source": [
    "a = input(\"Where are working right now\")"
   ]
  },
  {
   "cell_type": "code",
   "execution_count": 1,
   "id": "327809ea",
   "metadata": {},
   "outputs": [],
   "source": [
    "# Assignemnts for todays class\n",
    "\n",
    "## get an input from user and find the last letter in it, without using reverse index\n",
    "## get email from user, arun123@gmail.com --> break down into slice where ID and domain should get seprated\n",
    "## get input from user and remove all the spaces in it --> welcome to todays class\n",
    "## get number as an input from user and check the data type"
   ]
  },
  {
   "cell_type": "code",
   "execution_count": 2,
   "id": "2f91299f",
   "metadata": {},
   "outputs": [
    {
     "name": "stdout",
     "output_type": "stream",
     "text": [
      "s\n"
     ]
    }
   ],
   "source": [
    "a = input()"
   ]
  },
  {
   "cell_type": "code",
   "execution_count": 5,
   "id": "5d189b36",
   "metadata": {},
   "outputs": [
    {
     "name": "stdout",
     "output_type": "stream",
     "text": [
      "sd\n",
      "sd\n"
     ]
    }
   ],
   "source": [
    "print(input())"
   ]
  },
  {
   "cell_type": "code",
   "execution_count": 10,
   "id": "c2290e63",
   "metadata": {},
   "outputs": [
    {
     "name": "stdout",
     "output_type": "stream",
     "text": [
      "6\n",
      "<class 'str'>\n"
     ]
    }
   ],
   "source": [
    "a = input()\n",
    "print (type(a))"
   ]
  },
  {
   "cell_type": "code",
   "execution_count": 11,
   "id": "c6fe6597",
   "metadata": {},
   "outputs": [
    {
     "name": "stdout",
     "output_type": "stream",
     "text": [
      "sas\n",
      "<class 'str'>\n"
     ]
    }
   ],
   "source": [
    "a = input()\n",
    "print (type(a))"
   ]
  },
  {
   "cell_type": "code",
   "execution_count": 12,
   "id": "3b060a40",
   "metadata": {},
   "outputs": [
    {
     "name": "stdout",
     "output_type": "stream",
     "text": [
      "'2'\n",
      "<class 'str'>\n"
     ]
    }
   ],
   "source": [
    "a = input()\n",
    "print (type(a))"
   ]
  },
  {
   "cell_type": "code",
   "execution_count": 13,
   "id": "8262ed1a",
   "metadata": {},
   "outputs": [
    {
     "name": "stdout",
     "output_type": "stream",
     "text": [
      "sabarish 2\n",
      "<class 'str'>\n"
     ]
    }
   ],
   "source": [
    "a = input()\n",
    "print (type(a))"
   ]
  },
  {
   "cell_type": "code",
   "execution_count": 56,
   "id": "fdb3b735",
   "metadata": {},
   "outputs": [
    {
     "name": "stdout",
     "output_type": "stream",
     "text": [
      "97\n"
     ]
    },
    {
     "data": {
      "text/plain": [
       "int"
      ]
     },
     "execution_count": 56,
     "metadata": {},
     "output_type": "execute_result"
    }
   ],
   "source": [
    "## get number as an input from user and check the data type\n",
    "\n",
    "a = int(input())\n",
    "type(a)"
   ]
  },
  {
   "cell_type": "code",
   "execution_count": 33,
   "id": "96366c32",
   "metadata": {},
   "outputs": [
    {
     "name": "stdout",
     "output_type": "stream",
     "text": [
      "dksjnasad 3233 fewfe efedaclc \n",
      "dksjnasad3233fewfeefedaclc\n"
     ]
    }
   ],
   "source": [
    "## get input from user and remove all the spaces in it --> welcome to todays class\n",
    "\n",
    "a = input()\n",
    "print(a.replace(\" \",\"\"))"
   ]
  },
  {
   "cell_type": "code",
   "execution_count": 47,
   "id": "deef75c3",
   "metadata": {},
   "outputs": [
    {
     "name": "stdout",
     "output_type": "stream",
     "text": [
      "sabarish.v2000@gmail.com\n",
      "domain is @gmail.com\n",
      "username is sabarish.v2000\n"
     ]
    }
   ],
   "source": [
    "## get email from user, arun123@gmail.com --> break down into slice where ID and domain should get seprated\n",
    "\n",
    "a = input()\n",
    "domain = (a[-10::])\n",
    "username = (a[:-10:])\n",
    "print(\"domain is\",domain)\n",
    "print(\"username is\", username)"
   ]
  },
  {
   "cell_type": "code",
   "execution_count": 57,
   "id": "dc80e5eb",
   "metadata": {},
   "outputs": [
    {
     "name": "stdout",
     "output_type": "stream",
     "text": [
      "asdsfghjkjhg\n",
      "as\n"
     ]
    }
   ],
   "source": [
    "c = input()\n",
    "print(c[0:-10])"
   ]
  },
  {
   "cell_type": "code",
   "execution_count": null,
   "id": "9adc9d03",
   "metadata": {},
   "outputs": [],
   "source": []
  }
 ],
 "metadata": {
  "kernelspec": {
   "display_name": "Python 3 (ipykernel)",
   "language": "python",
   "name": "python3"
  },
  "language_info": {
   "codemirror_mode": {
    "name": "ipython",
    "version": 3
   },
   "file_extension": ".py",
   "mimetype": "text/x-python",
   "name": "python",
   "nbconvert_exporter": "python",
   "pygments_lexer": "ipython3",
   "version": "3.9.13"
  }
 },
 "nbformat": 4,
 "nbformat_minor": 5
}
