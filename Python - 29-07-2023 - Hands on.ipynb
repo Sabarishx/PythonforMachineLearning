{
 "cells": [
  {
   "cell_type": "code",
   "execution_count": 5,
   "id": "e02a52ef",
   "metadata": {},
   "outputs": [
    {
     "name": "stdout",
     "output_type": "stream",
     "text": [
      "25\n",
      "21\n",
      "46\n",
      "11.5\n",
      "11\n",
      "529\n",
      "1\n"
     ]
    }
   ],
   "source": [
    "#Arithmetic Operator\n",
    "a = 23\n",
    "b = 2\n",
    "\n",
    "print(a+b) #Addition\n",
    "print(a-b) #Subtraction\n",
    "print(a*b) #Multiplication\n",
    "print(a/b) #Division - provides full quotient\n",
    "print(a//b) #Floor Division - provides quotient only before decimal\n",
    "print(a**b) #Power off\n",
    "print(a%b) # Modulus - Provides remainder"
   ]
  },
  {
   "cell_type": "code",
   "execution_count": 6,
   "id": "3548e6c5",
   "metadata": {
    "scrolled": true
   },
   "outputs": [
    {
     "name": "stdout",
     "output_type": "stream",
     "text": [
      "False\n",
      "True\n",
      "True\n",
      "False\n",
      "True\n",
      "False\n"
     ]
    }
   ],
   "source": [
    "#Relational Operator\n",
    "\n",
    "a = 4\n",
    "b = 34\n",
    "\n",
    "print(a>b)\n",
    "print(a<b)\n",
    "print(a<=b)\n",
    "print(a>=b)\n",
    "print(a!=b)\n",
    "print(a==b)"
   ]
  },
  {
   "cell_type": "code",
   "execution_count": 8,
   "id": "9ebbfa36",
   "metadata": {},
   "outputs": [
    {
     "name": "stdout",
     "output_type": "stream",
     "text": [
      "38\n"
     ]
    }
   ],
   "source": [
    "# Assignment Operator\n",
    "\n",
    "a = 34\n",
    "a += 4 # a = a+4\n",
    "print(a)"
   ]
  },
  {
   "cell_type": "code",
   "execution_count": 9,
   "id": "fe4a2d35",
   "metadata": {},
   "outputs": [
    {
     "name": "stdout",
     "output_type": "stream",
     "text": [
      "True\n",
      "False\n",
      "True\n",
      "False\n",
      "False\n",
      "True\n"
     ]
    }
   ],
   "source": [
    "# Logical Operators --> and, or,not\n",
    "\n",
    "print(True and True) #True\n",
    "print(True and False) #False\n",
    "print(True or False) #True\n",
    "print(False and False) #False\n",
    "print(not True) #False\n",
    "print(not False) #True"
   ]
  },
  {
   "cell_type": "code",
   "execution_count": 19,
   "id": "2926fdc5",
   "metadata": {
    "scrolled": true
   },
   "outputs": [
    {
     "name": "stdout",
     "output_type": "stream",
     "text": [
      "4353656565565654\n",
      "Even\n"
     ]
    }
   ],
   "source": [
    "a = int(input())\n",
    "\n",
    "if a%2==0:\n",
    "    print(\"Even\")\n",
    "elif a%2==1:\n",
    "    print(\"Odd\")\n",
    "else:\n",
    "    print(\"Invalid\")"
   ]
  },
  {
   "cell_type": "code",
   "execution_count": 9,
   "id": "4833c440",
   "metadata": {},
   "outputs": [
    {
     "name": "stdout",
     "output_type": "stream",
     "text": [
      "Sab\n",
      "34\n",
      "Unknown Name\n"
     ]
    }
   ],
   "source": [
    "name = input()\n",
    "mark = int(input())\n",
    "\n",
    "if name == \"Sabarish\" and mark <= 35:\n",
    "    print(\"Fail\")\n",
    "elif name == \"Sabarish\" and mark <= 50:\n",
    "    print(\"Average\")\n",
    "elif name == \"Sabarish\" and mark <=75:\n",
    "    print(\"Good\")\n",
    "elif name == \"Sabarish\" and mark <=95:\n",
    "    print(\"Awesome\")\n",
    "elif name == \"Sabarish\" and mark <=100:\n",
    "    print(\"Top Performer\")\n",
    "else:\n",
    "    print(\"Unknown Name\")"
   ]
  },
  {
   "cell_type": "code",
   "execution_count": 14,
   "id": "3cc27102",
   "metadata": {},
   "outputs": [
    {
     "name": "stdout",
     "output_type": "stream",
     "text": [
      "5\n",
      "5\n",
      "10\n",
      "15\n",
      "20\n",
      "25\n",
      "30\n"
     ]
    }
   ],
   "source": [
    "#while loop\n",
    "\n",
    "a = int(input())\n",
    "while a < 34:\n",
    "    print(a)\n",
    "    a = a+5"
   ]
  },
  {
   "cell_type": "code",
   "execution_count": 25,
   "id": "d23eafc6",
   "metadata": {},
   "outputs": [
    {
     "name": "stdout",
     "output_type": "stream",
     "text": [
      "Hi\n",
      "Hello\n",
      "Welcome\n"
     ]
    }
   ],
   "source": [
    "#loops\n",
    "\n",
    "a = [\"Hi\", \"Hello\", \"Welcome\"]\n",
    "\n",
    "for i in a:\n",
    "    print(i)"
   ]
  },
  {
   "cell_type": "code",
   "execution_count": 28,
   "id": "5800f770",
   "metadata": {},
   "outputs": [
    {
     "name": "stdout",
     "output_type": "stream",
     "text": [
      "1\n",
      "2\n",
      "3\n",
      "4\n",
      "5\n",
      "6\n",
      "7\n",
      "8\n",
      "9\n",
      "10\n",
      "11\n",
      "12\n",
      "13\n",
      "14\n",
      "15\n",
      "16\n",
      "17\n",
      "18\n",
      "19\n",
      "20\n",
      "21\n",
      "22\n",
      "23\n",
      "24\n",
      "25\n",
      "26\n",
      "27\n",
      "28\n",
      "29\n",
      "30\n",
      "31\n",
      "32\n",
      "33\n",
      "34\n",
      "35\n",
      "36\n",
      "37\n",
      "38\n",
      "39\n",
      "40\n",
      "41\n",
      "42\n",
      "43\n",
      "44\n",
      "45\n",
      "46\n",
      "47\n",
      "48\n",
      "49\n",
      "50\n",
      "51\n",
      "52\n",
      "53\n"
     ]
    }
   ],
   "source": [
    "\n",
    "\n",
    "for i in range(1,54):\n",
    "    print(i)"
   ]
  },
  {
   "cell_type": "code",
   "execution_count": 32,
   "id": "f1a3ccf4",
   "metadata": {},
   "outputs": [
    {
     "name": "stdout",
     "output_type": "stream",
     "text": [
      "[0, 1, 2, 3, 4]\n",
      "[21, 54, 87]\n",
      "[20, 21, 22, 23, 24, 25, 26, 27, 28, 29, 30, 31, 32, 33, 34, 35, 36, 37, 38, 39, 40, 41, 42, 43, 44]\n"
     ]
    }
   ],
   "source": [
    "print(list(range(5)))\n",
    "print(list(range(21,100,33)))\n",
    "print(list(range(20,45)))\n",
    "\n"
   ]
  },
  {
   "cell_type": "code",
   "execution_count": 41,
   "id": "72f40c1b",
   "metadata": {},
   "outputs": [
    {
     "name": "stdout",
     "output_type": "stream",
     "text": [
      "[1, 2, 3, 4, 5]\n"
     ]
    }
   ],
   "source": [
    "a = (1,2,3,3,3,3,3,3,4,4,4,4,4,5,5,5,5)\n",
    "print(list(set(a)))"
   ]
  },
  {
   "cell_type": "code",
   "execution_count": 43,
   "id": "b8be8361",
   "metadata": {},
   "outputs": [
    {
     "name": "stdout",
     "output_type": "stream",
     "text": [
      "('name', 'Sabarish')\n",
      "('Age', '23')\n",
      "('Company', 'Infosys')\n"
     ]
    }
   ],
   "source": [
    "a = {\"name\":\"Sabarish\", \"Age\":\"23\",\"Company\":\"Infosys\"}\n",
    "\n",
    "for i in a.items():\n",
    "    print(i)"
   ]
  },
  {
   "cell_type": "code",
   "execution_count": 44,
   "id": "c13a4957",
   "metadata": {},
   "outputs": [
    {
     "name": "stdout",
     "output_type": "stream",
     "text": [
      "name\n",
      "Age\n",
      "Company\n"
     ]
    }
   ],
   "source": [
    "for i in a.keys():\n",
    "    print(i)"
   ]
  },
  {
   "cell_type": "code",
   "execution_count": 45,
   "id": "5a035717",
   "metadata": {},
   "outputs": [
    {
     "name": "stdout",
     "output_type": "stream",
     "text": [
      "Sabarish\n",
      "23\n",
      "Infosys\n"
     ]
    }
   ],
   "source": [
    "for i in a.values():\n",
    "    print(i)"
   ]
  },
  {
   "cell_type": "code",
   "execution_count": 46,
   "id": "be01f8b9",
   "metadata": {},
   "outputs": [
    {
     "name": "stdout",
     "output_type": "stream",
     "text": [
      "name ----> Sabarish\n",
      "Age ----> 23\n",
      "Company ----> Infosys\n"
     ]
    }
   ],
   "source": [
    "for keys, values in a.items():\n",
    "    print(keys, \"---->\", values)"
   ]
  },
  {
   "cell_type": "code",
   "execution_count": 53,
   "id": "53a0b056",
   "metadata": {},
   "outputs": [
    {
     "name": "stdout",
     "output_type": "stream",
     "text": [
      "0\n",
      "2\n",
      "4\n",
      "6\n",
      "8\n"
     ]
    }
   ],
   "source": [
    "\n",
    "\n",
    "for i in range(0,10):\n",
    "    if i%2==0:\n",
    "        print(i)\n",
    "    "
   ]
  },
  {
   "cell_type": "code",
   "execution_count": 65,
   "id": "76704701",
   "metadata": {},
   "outputs": [
    {
     "name": "stdout",
     "output_type": "stream",
     "text": [
      "1\n",
      "3\n",
      "5\n",
      "7\n",
      "9\n"
     ]
    }
   ],
   "source": [
    "for i in range(0,10):\n",
    "    if i%2==1:\n",
    "        print(i)"
   ]
  },
  {
   "cell_type": "code",
   "execution_count": 63,
   "id": "0afba3db",
   "metadata": {},
   "outputs": [
    {
     "name": "stdout",
     "output_type": "stream",
     "text": [
      "yuvashreevenkatesan03@gmail.com\n",
      "yuvashreevenkatesan03\n",
      "gmail\n"
     ]
    }
   ],
   "source": [
    "a = input()\n",
    "\n",
    "name = a.split(\"@\")[0]\n",
    "email = a.split(\"@\")[-1].split(\".\")[0]\n",
    "print(name)\n",
    "print(email)\n"
   ]
  },
  {
   "cell_type": "code",
   "execution_count": 16,
   "id": "9125b230",
   "metadata": {},
   "outputs": [
    {
     "name": "stdout",
     "output_type": "stream",
     "text": [
      "Given variable <class 'int'>\n",
      "<class 'str'>\n",
      "<class 'list'>\n",
      "<class 'dict'>\n",
      "<class 'tuple'>\n",
      "<class 'float'>\n",
      "<class 'bool'>\n"
     ]
    }
   ],
   "source": [
    "a = 123\n",
    "b = \"Rolls Royse\"\n",
    "c = [1,3,4,5,6,7]\n",
    "d = {\"name\":\"Sabarish\", \"company\":\"Infosys\"}\n",
    "e = (1,2,3,4,5)\n",
    "f = 1.24343434\n",
    "g = False\n",
    "\n",
    "print (type(a))\n",
    "print (type(b))\n",
    "print (type(c))\n",
    "print (type(d))\n",
    "print (type(e))\n",
    "print (type(f))\n",
    "print (type(g))"
   ]
  },
  {
   "cell_type": "code",
   "execution_count": 5,
   "id": "b8c5a80c",
   "metadata": {},
   "outputs": [
    {
     "name": "stdout",
     "output_type": "stream",
     "text": [
      "Given input is int\n"
     ]
    }
   ],
   "source": [
    "a = 45\n",
    "print(\"Given input is\", type(a).__name__)"
   ]
  },
  {
   "cell_type": "code",
   "execution_count": 17,
   "id": "80ec4871",
   "metadata": {},
   "outputs": [
    {
     "name": "stdout",
     "output_type": "stream",
     "text": [
      "Is there any police presence:YES\n",
      "What is the colour of the Signal:RED\n",
      "Stop\n"
     ]
    }
   ],
   "source": [
    "# get below as input from user\n",
    "#police = yes/no -YES,Yes\n",
    "#signal = red/yellow/green\n",
    "\n",
    "#police yes , singl red - stop\n",
    "#ploice-no , signal -red - go\n",
    "#police -yes, signal -yellow - slow down\n",
    "#plocie -no , signal - yellow - go\n",
    "# signal - go \n",
    "\n",
    "\n",
    "a = input(\"Is there any police presence:\")\n",
    "b = input(\"What is the colour of the Signal:\")\n",
    "police = a.title()\n",
    "signal = b.title()\n",
    "\n",
    "if police == \"Yes\" and signal == \"Red\":\n",
    "    print(\"Stop\")\n",
    "elif police == \"No\" and signal == \"Red\":\n",
    "    print(\"Go\")\n",
    "elif police == \"Yes\" and signal == \"Yellow\":\n",
    "    print(\"Slow Down\")\n",
    "elif police == \"No\" and signal == \"Yellow\":\n",
    "    print(\"Go\")\n",
    "elif police == \"Yes\" or police ==\"No\" and signal == \"Green\":\n",
    "    print(\"Go\")\n",
    "else:\n",
    "    print(\"Wrong Input\")\n"
   ]
  },
  {
   "cell_type": "code",
   "execution_count": null,
   "id": "221eeec7",
   "metadata": {},
   "outputs": [],
   "source": []
  }
 ],
 "metadata": {
  "kernelspec": {
   "display_name": "Python 3 (ipykernel)",
   "language": "python",
   "name": "python3"
  },
  "language_info": {
   "codemirror_mode": {
    "name": "ipython",
    "version": 3
   },
   "file_extension": ".py",
   "mimetype": "text/x-python",
   "name": "python",
   "nbconvert_exporter": "python",
   "pygments_lexer": "ipython3",
   "version": "3.9.13"
  }
 },
 "nbformat": 4,
 "nbformat_minor": 5
}
