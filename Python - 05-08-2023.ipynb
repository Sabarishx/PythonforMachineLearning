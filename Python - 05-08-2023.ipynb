{
 "cells": [
  {
   "cell_type": "code",
   "execution_count": 1,
   "id": "344618ac",
   "metadata": {},
   "outputs": [],
   "source": [
    "def sabarish (a,b):\n",
    "    return(a+b)"
   ]
  },
  {
   "cell_type": "code",
   "execution_count": 3,
   "id": "19f363e5",
   "metadata": {},
   "outputs": [
    {
     "name": "stdout",
     "output_type": "stream",
     "text": [
      "10\n"
     ]
    }
   ],
   "source": [
    "a = sabarish(5,5)\n",
    "print(a)"
   ]
  },
  {
   "cell_type": "code",
   "execution_count": 5,
   "id": "d76df4b0",
   "metadata": {},
   "outputs": [
    {
     "name": "stdout",
     "output_type": "stream",
     "text": [
      "232333\n"
     ]
    }
   ],
   "source": [
    "b = sabarish(10,232323)\n",
    "print(b)"
   ]
  },
  {
   "cell_type": "code",
   "execution_count": 8,
   "id": "119c4dc4",
   "metadata": {},
   "outputs": [
    {
     "name": "stdout",
     "output_type": "stream",
     "text": [
      "232334\n"
     ]
    }
   ],
   "source": [
    "c = sabarish(1,b)\n",
    "print(c)"
   ]
  },
  {
   "cell_type": "code",
   "execution_count": 9,
   "id": "a6159a47",
   "metadata": {},
   "outputs": [],
   "source": [
    "def get_user_name (first_name,last_name,middle_name):\n",
    "    print(\"My first name is\", first_name)\n",
    "    print(\"My last name is\", last_name)\n",
    "    print(\"My middle name is\", middle_name)"
   ]
  },
  {
   "cell_type": "code",
   "execution_count": 11,
   "id": "4cae29eb",
   "metadata": {},
   "outputs": [
    {
     "name": "stdout",
     "output_type": "stream",
     "text": [
      "My first name is Sabarish\n",
      "My last name is Venkatesan\n",
      "My middle name is Shakespeare\n"
     ]
    }
   ],
   "source": [
    "#positional argument\n",
    "get_user_name(\"Sabarish\", \"Venkatesan\", \"Shakespeare\")"
   ]
  },
  {
   "cell_type": "code",
   "execution_count": 15,
   "id": "7d150f36",
   "metadata": {},
   "outputs": [
    {
     "name": "stdout",
     "output_type": "stream",
     "text": [
      "My first name is Venkatesan\n",
      "My last name is Captain America\n",
      "My middle name is roger that\n"
     ]
    }
   ],
   "source": [
    "#heyword argument\n",
    "\n",
    "get_user_name (first_name=\"Venkatesan\", last_name=\"Captain America\", middle_name=\"roger that\" )\n"
   ]
  },
  {
   "cell_type": "code",
   "execution_count": 21,
   "id": "d83531c2",
   "metadata": {},
   "outputs": [
    {
     "ename": "SyntaxError",
     "evalue": "positional argument follows keyword argument (2373219106.py, line 1)",
     "output_type": "error",
     "traceback": [
      "\u001b[1;36m  File \u001b[1;32m\"C:\\Users\\sabar\\AppData\\Local\\Temp\\ipykernel_11408\\2373219106.py\"\u001b[1;36m, line \u001b[1;32m1\u001b[0m\n\u001b[1;33m    get_user_name (\"sabarish\",last_name=\"venkatesan\",\"roger that\")\u001b[0m\n\u001b[1;37m                                                                 ^\u001b[0m\n\u001b[1;31mSyntaxError\u001b[0m\u001b[1;31m:\u001b[0m positional argument follows keyword argument\n"
     ]
    }
   ],
   "source": [
    "get_user_name (\"sabarish\",last_name=\"venkatesan\",\"roger that\")\n"
   ]
  },
  {
   "cell_type": "code",
   "execution_count": 24,
   "id": "dc797754",
   "metadata": {},
   "outputs": [],
   "source": [
    "def user_name(first_name=None, middle_name=None, last_name=None):\n",
    "    print(\"first name is\", first_name)\n",
    "    print(\"middle name is\", middle_name)\n",
    "    print(\"last name is\", last_name)\n",
    "    "
   ]
  },
  {
   "cell_type": "code",
   "execution_count": 27,
   "id": "13f03e46",
   "metadata": {},
   "outputs": [
    {
     "ename": "SyntaxError",
     "evalue": "positional argument follows keyword argument (3284481517.py, line 1)",
     "output_type": "error",
     "traceback": [
      "\u001b[1;36m  File \u001b[1;32m\"C:\\Users\\sabar\\AppData\\Local\\Temp\\ipykernel_11408\\3284481517.py\"\u001b[1;36m, line \u001b[1;32m1\u001b[0m\n\u001b[1;33m    user_name(\"sabarish\", middle_name=\"sa\", \"chennai\")\u001b[0m\n\u001b[1;37m                                                     ^\u001b[0m\n\u001b[1;31mSyntaxError\u001b[0m\u001b[1;31m:\u001b[0m positional argument follows keyword argument\n"
     ]
    }
   ],
   "source": [
    "user_name(\"sabarish\", middle_name=\"sa\", \"chennai\")"
   ]
  },
  {
   "cell_type": "code",
   "execution_count": 29,
   "id": "e68c1455",
   "metadata": {},
   "outputs": [
    {
     "name": "stdout",
     "output_type": "stream",
     "text": [
      "one\n",
      "two\n"
     ]
    }
   ],
   "source": [
    "a = \"one\"\n",
    "\n",
    "def test():\n",
    "    a = \"two\"\n",
    "    return a\n",
    "print(a)\n",
    "a = test()\n",
    "print(a)"
   ]
  },
  {
   "cell_type": "code",
   "execution_count": 30,
   "id": "7eb94ee9",
   "metadata": {},
   "outputs": [
    {
     "name": "stdout",
     "output_type": "stream",
     "text": [
      "one\n",
      "two\n"
     ]
    }
   ],
   "source": [
    "a = \"one\" #global variable\n",
    "\n",
    "def test():\n",
    "    a = \"two\" #local variable\n",
    "    return a\n",
    "print(a)\n",
    "a = test()\n",
    "print(a)"
   ]
  },
  {
   "cell_type": "code",
   "execution_count": 31,
   "id": "688e6ea3",
   "metadata": {},
   "outputs": [
    {
     "name": "stdout",
     "output_type": "stream",
     "text": [
      "one\n",
      "two\n"
     ]
    }
   ],
   "source": [
    "a = \"one\"\n",
    "\n",
    "def test():\n",
    "    global a\n",
    "    a = \"two\"\n",
    "    return a\n",
    "print(a)\n",
    "test()\n",
    "print(a)"
   ]
  },
  {
   "cell_type": "code",
   "execution_count": 33,
   "id": "79cb29c0",
   "metadata": {},
   "outputs": [
    {
     "name": "stdout",
     "output_type": "stream",
     "text": [
      "two\n"
     ]
    }
   ],
   "source": [
    "a = \"one\" #we need to use the function \"test()\" so it will return the value under def function\"\n",
    "\n",
    "def test():\n",
    "    global a\n",
    "    a = \"two\"\n",
    "    return a\n",
    "\n",
    "test()\n",
    "print(a)\n"
   ]
  },
  {
   "cell_type": "code",
   "execution_count": 36,
   "id": "818dbbc7",
   "metadata": {},
   "outputs": [],
   "source": [
    "def test(*args):\n",
    "    print(args)\n",
    "    print(type(args))\n",
    "    a = args[0]\n",
    "    b = args[1]\n",
    "    print(a,b)\n",
    "    "
   ]
  },
  {
   "cell_type": "code",
   "execution_count": 37,
   "id": "a1ead8a3",
   "metadata": {},
   "outputs": [
    {
     "name": "stdout",
     "output_type": "stream",
     "text": [
      "('hi', 1, 2, 3, 4, 3, 23, 'welcome')\n",
      "<class 'tuple'>\n",
      "hi 1\n"
     ]
    }
   ],
   "source": [
    "test(\"hi\", 1,2,3,4,3,23,\"welcome\")"
   ]
  },
  {
   "cell_type": "code",
   "execution_count": 38,
   "id": "f88006ca",
   "metadata": {},
   "outputs": [],
   "source": [
    "def test(a,b,*args):\n",
    "    print(a,b)\n",
    "    print(args)"
   ]
  },
  {
   "cell_type": "code",
   "execution_count": 39,
   "id": "7728f711",
   "metadata": {},
   "outputs": [
    {
     "name": "stdout",
     "output_type": "stream",
     "text": [
      "1 2\n",
      "('huuuhu', 'dscee', 2, 3, 4)\n"
     ]
    }
   ],
   "source": [
    "test(1,2,\"huuuhu\",\"dscee\",2,3,4)"
   ]
  },
  {
   "cell_type": "code",
   "execution_count": 40,
   "id": "44003be8",
   "metadata": {},
   "outputs": [
    {
     "name": "stdout",
     "output_type": "stream",
     "text": [
      "two 232333\n",
      "('duihiuc',)\n"
     ]
    }
   ],
   "source": [
    "test(a,b,\"duihiuc\")"
   ]
  },
  {
   "cell_type": "code",
   "execution_count": 44,
   "id": "1e39b92b",
   "metadata": {},
   "outputs": [
    {
     "name": "stdout",
     "output_type": "stream",
     "text": [
      "None None\n",
      "('Sab', 'Ven', 1, 2, 3, 4, 5, 6)\n"
     ]
    }
   ],
   "source": [
    "test(None, None, \"Sab\", \"Ven\",1,2,3,4,5,6)"
   ]
  },
  {
   "cell_type": "code",
   "execution_count": 53,
   "id": "141226a7",
   "metadata": {},
   "outputs": [
    {
     "name": "stdout",
     "output_type": "stream",
     "text": [
      "{'name': 'sabarish', 'age': 23, 'location': 'chennai'}\n",
      "<class 'dict'>\n",
      "sabarish\n"
     ]
    }
   ],
   "source": [
    "def test(**kwargs):\n",
    "    print(kwargs)\n",
    "    print(type(kwargs))\n",
    "    getname = kwargs.get(\"name\")\n",
    "    print(getname)\n",
    "    \n",
    "test(name = \"sabarish\", age = 23, location = \"chennai\")\n"
   ]
  },
  {
   "cell_type": "code",
   "execution_count": 47,
   "id": "ec4559b4",
   "metadata": {},
   "outputs": [
    {
     "name": "stdout",
     "output_type": "stream",
     "text": [
      "{'name': 'sabarish', 'age': 23, 'location': 'chennai'}\n",
      "<class 'dict'>\n"
     ]
    }
   ],
   "source": [
    "test(name = \"sabarish\", age = 23, location = \"chennai\")"
   ]
  },
  {
   "cell_type": "code",
   "execution_count": 54,
   "id": "49a5e09d",
   "metadata": {},
   "outputs": [
    {
     "name": "stdout",
     "output_type": "stream",
     "text": [
      "9\n"
     ]
    }
   ],
   "source": [
    "#inline function\n",
    "\n",
    "def test(a,b):\n",
    "    c = a+b\n",
    "    return c\n",
    "a = test(5,4)\n",
    "print(a)"
   ]
  },
  {
   "cell_type": "code",
   "execution_count": 55,
   "id": "2ffbf907",
   "metadata": {},
   "outputs": [
    {
     "name": "stdout",
     "output_type": "stream",
     "text": [
      "9\n"
     ]
    }
   ],
   "source": [
    "test = lambda a,b: a+b #lambda is an inline function\n",
    "a = test(5,4)\n",
    "print(a)\n"
   ]
  },
  {
   "cell_type": "code",
   "execution_count": 57,
   "id": "c757edc2",
   "metadata": {},
   "outputs": [
    {
     "name": "stdout",
     "output_type": "stream",
     "text": [
      "210\n"
     ]
    }
   ],
   "source": [
    "multiplication = lambda a,b,c: a*b*c\n",
    "a = multiplication(5,6,7)\n",
    "print(a)"
   ]
  },
  {
   "cell_type": "code",
   "execution_count": null,
   "id": "b8f45cab",
   "metadata": {},
   "outputs": [],
   "source": []
  }
 ],
 "metadata": {
  "kernelspec": {
   "display_name": "Python 3 (ipykernel)",
   "language": "python",
   "name": "python3"
  },
  "language_info": {
   "codemirror_mode": {
    "name": "ipython",
    "version": 3
   },
   "file_extension": ".py",
   "mimetype": "text/x-python",
   "name": "python",
   "nbconvert_exporter": "python",
   "pygments_lexer": "ipython3",
   "version": "3.9.13"
  }
 },
 "nbformat": 4,
 "nbformat_minor": 5
}
